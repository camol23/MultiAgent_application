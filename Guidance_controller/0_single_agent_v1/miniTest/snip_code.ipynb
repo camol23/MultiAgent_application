{
 "cells": [
  {
   "cell_type": "code",
   "execution_count": 1,
   "metadata": {},
   "outputs": [],
   "source": [
    "import numpy as np"
   ]
  },
  {
   "cell_type": "code",
   "execution_count": 2,
   "metadata": {},
   "outputs": [
    {
     "name": "stdout",
     "output_type": "stream",
     "text": [
      "3 4\n",
      "2 3\n",
      "1 2\n",
      "0 1\n"
     ]
    }
   ],
   "source": [
    "len_test = 4\n",
    "\n",
    "for j in reversed(range(len_test)):\n",
    "    print(j, j+1)"
   ]
  },
  {
   "cell_type": "code",
   "execution_count": 7,
   "metadata": {},
   "outputs": [
    {
     "name": "stdout",
     "output_type": "stream",
     "text": [
      "(4, 1)\n",
      "\n",
      "[[1]\n",
      " [2]\n",
      " [3]\n",
      " [4]]\n",
      "\n",
      "[[-1]\n",
      " [-1]\n",
      " [-1]\n",
      " [ 0]]\n",
      "\n",
      "[[-1]\n",
      " [-1]\n",
      " [-1]\n",
      " [ 4]]\n"
     ]
    }
   ],
   "source": [
    "a = np.array([1, 2, 3, 4])\n",
    "a = np.reshape(a, (4, 1))\n",
    "print(a.shape)\n",
    "c = np.zeros_like(a)\n",
    "\n",
    "c[0:-1] = a[0:-1] - a[1:]\n",
    "print()\n",
    "print(a)\n",
    "print()\n",
    "print(c)\n",
    "\n",
    "c[-1] = a[-1] - 0\n",
    "print()\n",
    "print(c)\n"
   ]
  },
  {
   "cell_type": "code",
   "execution_count": 8,
   "metadata": {},
   "outputs": [
    {
     "name": "stdout",
     "output_type": "stream",
     "text": [
      "[[1]\n",
      " [2]\n",
      " [3]\n",
      " [4]]\n",
      "\n",
      "[[4]\n",
      " [3]\n",
      " [2]\n",
      " [1]]\n"
     ]
    }
   ],
   "source": [
    "a = np.array([1, 2, 3, 4])\n",
    "a = np.reshape(a, (4, 1))\n",
    "\n",
    "b = np.flip(a)\n",
    "\n",
    "print(a)\n",
    "print()\n",
    "print(b)"
   ]
  },
  {
   "cell_type": "code",
   "execution_count": 9,
   "metadata": {},
   "outputs": [
    {
     "name": "stdout",
     "output_type": "stream",
     "text": [
      "3\n",
      "[1 2 3]\n",
      "\n",
      "(4,)\n",
      "[1 2 8 3]\n"
     ]
    }
   ],
   "source": [
    "a = np.array([1, 2, 3])\n",
    "print(a.shape[0])\n",
    "print(a)\n",
    "print()\n",
    "\n",
    "a = np.insert(a, 2, 8)\n",
    "print(a.shape)\n",
    "print(a)"
   ]
  },
  {
   "cell_type": "code",
   "execution_count": 16,
   "metadata": {},
   "outputs": [
    {
     "name": "stdout",
     "output_type": "stream",
     "text": [
      "[0 1]\n",
      "(2, 2)\n",
      "[20 30]\n"
     ]
    }
   ],
   "source": [
    "a = np.array([[10, 20], [30, 40]])\n",
    "idx = np.array([1, 0])\n",
    "id_row = np.arange(len(a))\n",
    "\n",
    "print(id_row)\n",
    "print(a.shape)\n",
    "print(a[id_row, idx])"
   ]
  },
  {
   "cell_type": "code",
   "execution_count": 3,
   "metadata": {},
   "outputs": [
    {
     "name": "stdout",
     "output_type": "stream",
     "text": [
      "(2,)\n",
      "20\n"
     ]
    }
   ],
   "source": [
    "a = np.array([10, 20])\n",
    "idx  = 1\n",
    "#idx = np.array([1, 0])\n",
    "#id_row = np.arange(len(a))\n",
    "\n",
    "#print(id_row)\n",
    "print(a.shape)\n",
    "print(a[idx])"
   ]
  },
  {
   "cell_type": "code",
   "execution_count": 8,
   "metadata": {},
   "outputs": [
    {
     "name": "stdout",
     "output_type": "stream",
     "text": [
      "<class 'int'>\n",
      "I'm Int\n"
     ]
    }
   ],
   "source": [
    "name = type(1)\n",
    "print(name)\n",
    "if name == type(1):\n",
    "    print(\"I'm Int\")"
   ]
  }
 ],
 "metadata": {
  "kernelspec": {
   "display_name": "base",
   "language": "python",
   "name": "python3"
  },
  "language_info": {
   "codemirror_mode": {
    "name": "ipython",
    "version": 3
   },
   "file_extension": ".py",
   "mimetype": "text/x-python",
   "name": "python",
   "nbconvert_exporter": "python",
   "pygments_lexer": "ipython3",
   "version": "3.9.20"
  }
 },
 "nbformat": 4,
 "nbformat_minor": 2
}
